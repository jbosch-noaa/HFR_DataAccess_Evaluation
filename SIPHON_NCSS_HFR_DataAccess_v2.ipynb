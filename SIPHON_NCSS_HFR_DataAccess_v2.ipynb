{
 "cells": [
  {
   "cell_type": "markdown",
   "metadata": {},
   "source": [
    "## Using Siphon to query the NetCDF Subset Service\n",
    "\n",
    "\n",
    "Objectives:\n",
    "1. Employ Siphon's NCSS class investigate the metadata of SIO and NDBC THREDDS Data Servers (TDS)\n",
    "2. To retrieve data from SIO and NDBC THREDDS Data Servers (TDS)\n",
    "3. Plot a map using numpy arrays, matplotlib, and cartopy.\n",
    "\n",
    "Introduction:\n",
    "Siphon is a python package that makes it possible to download data from Unidata data technologies. Here we will compare the data availability in 2 different TDS servers that distribute HFR data.  We will first assess the metadata availableo on each server and then attempt to sub set identical regions of data, plot them and compare them.\n",
    "\n",
    "**But first!**\n",
    "Bookmark these resources for when you want to use Siphon later:\n",
    "+ [latest Siphon documentation](http://siphon.readthedocs.org/en/latest/)\n",
    "+ [Siphon github repo](https://github.com/Unidata/siphon)\n",
    "+ [TDS documentation](http://www.unidata.ucar.edu/software/thredds/v4.6/tds/TDS.html)\n",
    "+ [netCDF subset service documentation](http://www.unidata.ucar.edu/software/thredds/current/tds/reference/NetcdfSubsetServiceReference.html)\n",
    "\n",
    "##Let's get started!\n",
    "\n",
    " First, we'll import the TDSCatalog class from Siphon and put the special 'matplotlib' line in so our map will show up later in the notebook. Let's construct an instance of TDSCatalog pointing to our dataset of interest. "
   ]
  },
  {
   "cell_type": "code",
   "execution_count": 1,
   "metadata": {
    "collapsed": false
   },
   "outputs": [
    {
     "name": "stdout",
     "output_type": "stream",
     "text": [
      "NDBC\n",
      "OrderedDict([('US East Coast and Gulf of Mexico 1km resolution HF Radar data', <siphon.catalog.Dataset object at 0x00000000077257B8>)])\n",
      "SIO\n",
      "OrderedDict([('HFRADAR, US East and Gulf Coast, 1km Resolution, Hourly RTV', <siphon.catalog.Dataset object at 0x000000000773A198>)])\n"
     ]
    }
   ],
   "source": [
    "get_ipython().magic(u'matplotlib inline')\n",
    "from siphon.catalog import TDSCatalog\n",
    "#starting with east coast and Gulf of Mexico 1km resolution HF Radar data \n",
    "NDBC_HFR = TDSCatalog('http://sdf.ndbc.noaa.gov/thredds/catalog.xml?dataset=hfradar_usegc_1km')\n",
    "SIO_HFR = TDSCatalog('http://hfrnet.ucsd.edu/thredds/HFRADAR_USEGC_hourly_RTV.xml?dataset=HFRNet/USEGC/1km/hourly/RTV')\n",
    "print('NDBC')\n",
    "print(NDBC_HFR.datasets)\n",
    "print('SIO')\n",
    "print(SIO_HFR.datasets)"
   ]
  },
  {
   "cell_type": "markdown",
   "metadata": {},
   "source": [
    "## NDBC's Metadata"
   ]
  },
  {
   "cell_type": "code",
   "execution_count": 2,
   "metadata": {
    "collapsed": false
   },
   "outputs": [
    {
     "data": {
      "text/plain": [
       "{'authority': ['unidata.ucar.edu:'],\n",
       " 'dataFormat': 'netCDF',\n",
       " 'dataType': 'GRID',\n",
       " 'inherited': True,\n",
       " 'serviceName': 'aggregation'}"
      ]
     },
     "execution_count": 2,
     "metadata": {},
     "output_type": "execute_result"
    }
   ],
   "source": [
    "#NDBC's Metadata\n",
    "NDBC_HFR.metadata"
   ]
  },
  {
   "cell_type": "markdown",
   "metadata": {},
   "source": [
    "## Scripps's Metadata"
   ]
  },
  {
   "cell_type": "code",
   "execution_count": 3,
   "metadata": {
    "collapsed": false
   },
   "outputs": [
    {
     "data": {
      "text/plain": [
       "{'creator': [{}],\n",
       " 'dataFormat': 'netCDF',\n",
       " 'dataType': 'GRID',\n",
       " 'documentation': {'Rights': ['This is a research project and may contain errors. Please contact the providers of this data to ensure accurate values before making any critical judgements.'],\n",
       "  'xlink': [{'href': 'http://cordc.ucsd.edu/projects/mapping/',\n",
       "    'title': 'HFRNet Documentation'},\n",
       "   {'href': 'http://www.sccoos.org/meta/browse',\n",
       "    'title': 'View FGDC metadata for HFRADAR site installations'}]},\n",
       " 'inherited': True,\n",
       " 'serviceName': 'allServices',\n",
       " 'timeCoverage': [{}]}"
      ]
     },
     "execution_count": 3,
     "metadata": {},
     "output_type": "execute_result"
    }
   ],
   "source": [
    "#SIO's Metadata\n",
    "SIO_HFR.metadata"
   ]
  },
  {
   "cell_type": "markdown",
   "metadata": {},
   "source": [
    "### First we pull out this dataset and look at the access urls. Note there are many ways to access the data. Both site appear to be the same except SIO has WMS access"
   ]
  },
  {
   "cell_type": "code",
   "execution_count": 4,
   "metadata": {
    "collapsed": false
   },
   "outputs": [
    {
     "data": {
      "text/plain": [
       "{'ISO': 'http://sdf.ndbc.noaa.gov/thredds/iso/hfradar_usegc_1km',\n",
       " 'NCML': 'http://sdf.ndbc.noaa.gov/thredds/ncml/hfradar_usegc_1km',\n",
       " 'NetcdfSubset': 'http://sdf.ndbc.noaa.gov/thredds/ncss/grid/hfradar_usegc_1km',\n",
       " 'OPENDAP': 'http://sdf.ndbc.noaa.gov/thredds/dodsC/hfradar_usegc_1km',\n",
       " 'UDDC': 'http://sdf.ndbc.noaa.gov/thredds/uddc/hfradar_usegc_1km',\n",
       " 'WCS': 'http://sdf.ndbc.noaa.gov/thredds/wcs/hfradar_usegc_1km'}"
      ]
     },
     "execution_count": 4,
     "metadata": {},
     "output_type": "execute_result"
    }
   ],
   "source": [
    "#NDBC\n",
    "NDBC_ds = list(NDBC_HFR.datasets.values())[0]\n",
    "NDBC_ds.access_urls"
   ]
  },
  {
   "cell_type": "code",
   "execution_count": 5,
   "metadata": {
    "collapsed": false,
    "scrolled": true
   },
   "outputs": [
    {
     "data": {
      "text/plain": [
       "{'ISO': 'http://hfrnet.ucsd.edu/thredds/iso/HFRNet/USEGC/1km/hourly/RTV',\n",
       " 'NCML': 'http://hfrnet.ucsd.edu/thredds/ncml/HFRNet/USEGC/1km/hourly/RTV',\n",
       " 'NetcdfSubset': 'http://hfrnet.ucsd.edu/thredds/ncss/grid/HFRNet/USEGC/1km/hourly/RTV',\n",
       " 'OPENDAP': 'http://hfrnet.ucsd.edu/thredds/dodsC/HFRNet/USEGC/1km/hourly/RTV',\n",
       " 'UDDC': 'http://hfrnet.ucsd.edu/thredds/uddc/HFRNet/USEGC/1km/hourly/RTV',\n",
       " 'WCS': 'http://hfrnet.ucsd.edu/thredds/wcs/HFRNet/USEGC/1km/hourly/RTV',\n",
       " 'WMS': 'http://hfrnet.ucsd.edu/thredds/wms/HFRNet/USEGC/1km/hourly/RTV'}"
      ]
     },
     "execution_count": 5,
     "metadata": {},
     "output_type": "execute_result"
    }
   ],
   "source": [
    "#Scripps\n",
    "SIO_ds = list(SIO_HFR.datasets.values())[0]\n",
    "SIO_ds.access_urls"
   ]
  },
  {
   "cell_type": "code",
   "execution_count": 7,
   "metadata": {
    "collapsed": true
   },
   "outputs": [],
   "source": [
    "!activate ioos"
   ]
  },
  {
   "cell_type": "code",
   "execution_count": 8,
   "metadata": {
    "collapsed": false,
    "scrolled": true
   },
   "outputs": [
    {
     "name": "stdout",
     "output_type": "stream",
     "text": [
      "# conda environments:\n",
      "#\n",
      "I                        C:\\Users\\jennifer.bosch\\AppData\\Local\\Continuum\\Miniconda2\\envs\\I\n",
      "IOOS                     C:\\Users\\jennifer.bosch\\AppData\\Local\\Continuum\\Miniconda2\\envs\\IOOS\n",
      "bokeh_tutorial           C:\\Users\\jennifer.bosch\\AppData\\Local\\Continuum\\Miniconda2\\envs\\bokeh_tutorial\n",
      "root                  *  C:\\Users\\jennifer.bosch\\AppData\\Local\\Continuum\\Miniconda2\n",
      "\n"
     ]
    }
   ],
   "source": [
    "!conda info --envs\n"
   ]
  },
  {
   "cell_type": "markdown",
   "metadata": {},
   "source": [
    "### The `NetcdfSubset` entry is what we're after...we'll use this in our NCSS class. Let's import the NCSS class from Siphon and then pass in the NetcdfSubset access url. "
   ]
  },
  {
   "cell_type": "code",
   "execution_count": 9,
   "metadata": {
    "collapsed": true
   },
   "outputs": [],
   "source": [
    "from siphon.ncss import NCSS\n",
    "NDBC_ncss = NCSS(NDBC_ds.access_urls['NetcdfSubset'])\n",
    "SIO_ncss = NCSS(SIO_ds.access_urls['NetcdfSubset'])"
   ]
  },
  {
   "cell_type": "markdown",
   "metadata": {},
   "source": [
    "\n",
    "### Now we can start talking to the data to see what our spatial and time limits are as well as the variables available.  \n",
    "\n",
    "### First we will check NDBC"
   ]
  },
  {
   "cell_type": "code",
   "execution_count": 16,
   "metadata": {
    "collapsed": false
   },
   "outputs": [
    {
     "data": {
      "text/plain": [
       "{'begin': '2016-07-19T14:00:00Z', 'end': '2016-07-24T19:00:00Z'}"
      ]
     },
     "execution_count": 16,
     "metadata": {},
     "output_type": "execute_result"
    }
   ],
   "source": [
    "NDBC_ncss.metadata.time_span"
   ]
  },
  {
   "cell_type": "code",
   "execution_count": 17,
   "metadata": {
    "collapsed": false
   },
   "outputs": [
    {
     "data": {
      "text/plain": [
       "{'east': -57.1924, 'north': 46.4944, 'south': 21.7, 'west': -97.8838}"
      ]
     },
     "execution_count": 17,
     "metadata": {},
     "output_type": "execute_result"
    }
   ],
   "source": [
    "NDBC_ncss.metadata.lat_lon_box"
   ]
  },
  {
   "cell_type": "code",
   "execution_count": 18,
   "metadata": {
    "collapsed": false
   },
   "outputs": [
    {
     "data": {
      "text/plain": [
       "{'DOPx', 'DOPy', 'u', 'v'}"
      ]
     },
     "execution_count": 18,
     "metadata": {},
     "output_type": "execute_result"
    }
   ],
   "source": [
    "NDBC_ncss.variables"
   ]
  },
  {
   "cell_type": "code",
   "execution_count": 19,
   "metadata": {
    "collapsed": false
   },
   "outputs": [
    {
     "data": {
      "text/plain": [
       "{'DOPx': {'attributes': {'_ChunkSize': [1, 896, 1366],\n",
       "   'comment': \"The longitudinal dilution of precision (DOPx) represents the\\ncontribution of the radars' configuration geometry to\\nuncertainty in the eastward velocity estimate (u). DOPx is a\\ndirect multiplier of the standard error in obtaining the\\nstandard deviation for the eastward velocity estimate from the\\nleast squares best fit. DOPx and DOPy are commonly used to\\nobtain the geometric dilution of precision\\n(GDOP = sqrt(DOPx^2 + DOPy^2)), a useful metric for filtering\\nerrant velocities due to poor geometry.\",\n",
       "   'long_name': 'longitudinal dilution of precision'},\n",
       "  'desc': 'longitudinal dilution of precision',\n",
       "  'shape': 'time lat lon',\n",
       "  'type': 'float'},\n",
       " 'DOPy': {'attributes': {'_ChunkSize': [1, 896, 1366],\n",
       "   'comment': \"The latitudinal dilution of precision (DOPy) represents the\\ncontribution of the radars' configuration geometry to\\nuncertainty in the northward velocity estimate (v). DOPy is a\\ndirect multiplier of the standard error in obtaining the\\nstandard deviation for the northward velocity estimate from the\\nleast squares best fit. DOPx and DOPy are commonly used to\\nobtain the geometric dilution of precision\\n(GDOP = sqrt(DOPx^2 + DOPy^2)), a useful metric for filtering\\nerrant velocities due to poor geometry.\",\n",
       "   'long_name': 'latitudinal dilution of precision'},\n",
       "  'desc': 'latitudinal dilution of precision',\n",
       "  'shape': 'time lat lon',\n",
       "  'type': 'float'},\n",
       " 'u': {'attributes': {'_ChunkSize': [1, 896, 1366],\n",
       "   'ancillary_variables': 'DOPx',\n",
       "   'standard_name': 'surface_eastward_sea_water_velocity',\n",
       "   'units': 'm s-1'},\n",
       "  'desc': 'surface_eastward_sea_water_velocity',\n",
       "  'shape': 'time lat lon',\n",
       "  'type': 'float'},\n",
       " 'v': {'attributes': {'_ChunkSize': [1, 896, 1366],\n",
       "   'ancillary_variables': 'DOPy',\n",
       "   'standard_name': 'surface_northward_sea_water_velocity',\n",
       "   'units': 'm s-1'},\n",
       "  'desc': 'surface_northward_sea_water_velocity',\n",
       "  'shape': 'time lat lon',\n",
       "  'type': 'float'}}"
      ]
     },
     "execution_count": 19,
     "metadata": {},
     "output_type": "execute_result"
    }
   ],
   "source": [
    "NDBC_ncss.metadata.variables"
   ]
  },
  {
   "cell_type": "markdown",
   "metadata": {},
   "source": [
    "### Now lets check Scripps"
   ]
  },
  {
   "cell_type": "code",
   "execution_count": 20,
   "metadata": {
    "collapsed": false
   },
   "outputs": [
    {
     "data": {
      "text/plain": [
       "{'begin': '2012-01-01T00:00:00Z', 'end': '2016-07-26T17:00:00Z'}"
      ]
     },
     "execution_count": 20,
     "metadata": {},
     "output_type": "execute_result"
    }
   ],
   "source": [
    "SIO_ncss.metadata.time_span"
   ]
  },
  {
   "cell_type": "code",
   "execution_count": 21,
   "metadata": {
    "collapsed": false
   },
   "outputs": [
    {
     "data": {
      "text/plain": [
       "{'east': -57.1924, 'north': 46.4944, 'south': 21.7, 'west': -97.8838}"
      ]
     },
     "execution_count": 21,
     "metadata": {},
     "output_type": "execute_result"
    }
   ],
   "source": [
    "SIO_ncss.metadata.lat_lon_box"
   ]
  },
  {
   "cell_type": "code",
   "execution_count": 22,
   "metadata": {
    "collapsed": false
   },
   "outputs": [
    {
     "data": {
      "text/plain": [
       "{'DOPx', 'DOPy', 'u', 'v'}"
      ]
     },
     "execution_count": 22,
     "metadata": {},
     "output_type": "execute_result"
    }
   ],
   "source": [
    "SIO_ncss.variables"
   ]
  },
  {
   "cell_type": "code",
   "execution_count": 23,
   "metadata": {
    "collapsed": false
   },
   "outputs": [
    {
     "data": {
      "text/plain": [
       "{'DOPx': {'attributes': {'_ChunkSize': [1, 896, 1366],\n",
       "   'comment': \"The longitudinal dilution of precision (DOPx) represents the\\ncontribution of the radars' configuration geometry to\\nuncertainty in the eastward velocity estimate (u). DOPx is a\\ndirect multiplier of the standard error in obtaining the\\nstandard deviation for the eastward velocity estimate from the\\nleast squares best fit. DOPx and DOPy are commonly used to\\nobtain the geometric dilution of precision\\n(GDOP = sqrt(DOPx^2 + DOPy^2)), a useful metric for filtering\\nerrant velocities due to poor geometry.\",\n",
       "   'coordinates': 'time_run time lat lon ',\n",
       "   'long_name': 'longitudinal dilution of precision'},\n",
       "  'desc': 'longitudinal dilution of precision',\n",
       "  'shape': 'time lat lon',\n",
       "  'type': 'float'},\n",
       " 'DOPy': {'attributes': {'_ChunkSize': [1, 896, 1366],\n",
       "   'comment': \"The latitudinal dilution of precision (DOPy) represents the\\ncontribution of the radars' configuration geometry to\\nuncertainty in the northward velocity estimate (v). DOPy is a\\ndirect multiplier of the standard error in obtaining the\\nstandard deviation for the northward velocity estimate from the\\nleast squares best fit. DOPx and DOPy are commonly used to\\nobtain the geometric dilution of precision\\n(GDOP = sqrt(DOPx^2 + DOPy^2)), a useful metric for filtering\\nerrant velocities due to poor geometry.\",\n",
       "   'coordinates': 'time_run time lat lon ',\n",
       "   'long_name': 'latitudinal dilution of precision'},\n",
       "  'desc': 'latitudinal dilution of precision',\n",
       "  'shape': 'time lat lon',\n",
       "  'type': 'float'},\n",
       " 'u': {'attributes': {'_ChunkSize': [1, 896, 1366],\n",
       "   'ancillary_variables': 'DOPx',\n",
       "   'coordinates': 'time_run time lat lon ',\n",
       "   'long_name': 'surface_eastward_sea_water_velocity',\n",
       "   'standard_name': 'surface_eastward_sea_water_velocity',\n",
       "   'units': 'm s-1'},\n",
       "  'desc': 'surface_eastward_sea_water_velocity',\n",
       "  'shape': 'time lat lon',\n",
       "  'type': 'float'},\n",
       " 'v': {'attributes': {'_ChunkSize': [1, 896, 1366],\n",
       "   'ancillary_variables': 'DOPy',\n",
       "   'coordinates': 'time_run time lat lon ',\n",
       "   'long_name': 'surface_northward_sea_water_velocity',\n",
       "   'standard_name': 'surface_northward_sea_water_velocity',\n",
       "   'units': 'm s-1'},\n",
       "  'desc': 'surface_northward_sea_water_velocity',\n",
       "  'shape': 'time lat lon',\n",
       "  'type': 'float'}}"
      ]
     },
     "execution_count": 23,
     "metadata": {},
     "output_type": "execute_result"
    }
   ],
   "source": [
    "SIO_ncss.metadata.variables"
   ]
  },
  {
   "cell_type": "markdown",
   "metadata": {},
   "source": [
    "Both sites have the same variables and spatial extent but NDBC only has data from the last 6 days. SIO has data from January 1, 2012 'till today.\n",
    "\n",
    "Now we can then use the `ncss` objects to create a new query object, which facilitates asking for data from the server."
   ]
  },
  {
   "cell_type": "code",
   "execution_count": 24,
   "metadata": {
    "collapsed": true
   },
   "outputs": [],
   "source": [
    "NDBC_query = NDBC_ncss.query()\n",
    "SIO_query = SIO_ncss.query()\n"
   ]
  },
  {
   "cell_type": "markdown",
   "metadata": {},
   "source": [
    "We construct a query asking for data corresponding to a latitude and longitude box for the mid-Atlantic where 42 lat is the northern extent, 35 lat is the southern extent, -80  long is the western extent and -69 is the eastern extent. "
   ]
  },
  {
   "cell_type": "code",
   "execution_count": 25,
   "metadata": {
    "collapsed": false
   },
   "outputs": [
    {
     "data": {
      "text/plain": [
       "var=u&var=v&time_start=2016-07-17T00%3A00%3A00&time_end=2016-07-18T00%3A00%3A00&west=-80&east=-69&north=42&south=35"
      ]
     },
     "execution_count": 25,
     "metadata": {},
     "output_type": "execute_result"
    }
   ],
   "source": [
    "from datetime import datetime\n",
    "NDBC_query.lonlat_box(north = 42,south=35,west=-80, east=-69).time(datetime(2015, 7, 17, 23))\n",
    "NDBC_query.time_range(start=datetime(2016,7,17), end=datetime(2016,7,18))\n",
    "#query.accept('netcdf')\n",
    "NDBC_query.variables('u', 'v')\n",
    "\n",
    "SIO_query.lonlat_box(north = 42,south=35,west=-80, east=-69).time(datetime(2015, 7, 17, 23))\n",
    "SIO_query.time_range(start=datetime(2016,7,17), end=datetime(2016,7,18))\n",
    "SIO_query.variables('u', 'v')\n"
   ]
  },
  {
   "cell_type": "markdown",
   "metadata": {},
   "source": [
    "We now request data from the server using this query. The `NCSS` class handles parsing this NetCDF data (using the `netCDF4` module). If we print out the variable names, we see our requested variables, as well as a few others (more metadata information)"
   ]
  },
  {
   "cell_type": "code",
   "execution_count": 26,
   "metadata": {
    "collapsed": false
   },
   "outputs": [
    {
     "ename": "HTTPError",
     "evalue": "Error accessing http://sdf.ndbc.noaa.gov/thredds/ncss/grid/hfradar_usegc_1km?var=u&var=v&time_start=2016-07-17T00%3A00%3A00&time_end=2016-07-18T00%3A00%3A00&west=-80&east=-69&north=42&south=35: 400 NetCDF Subset Service exception handled : Requested time range does not intersect the Data Time Range = 2016-07-19T14:00:00Z to 2016-07-24T19:00:00Z",
     "output_type": "error",
     "traceback": [
      "\u001b[0;31m---------------------------------------------------------------------------\u001b[0m",
      "\u001b[0;31mHTTPError\u001b[0m                                 Traceback (most recent call last)",
      "\u001b[0;32m<ipython-input-26-b9d14790e162>\u001b[0m in \u001b[0;36m<module>\u001b[0;34m()\u001b[0m\n\u001b[0;32m----> 1\u001b[0;31m \u001b[0mNDBCdata\u001b[0m \u001b[0;34m=\u001b[0m \u001b[0mNDBC_ncss\u001b[0m\u001b[0;34m.\u001b[0m\u001b[0mget_data\u001b[0m\u001b[0;34m(\u001b[0m\u001b[0mNDBC_query\u001b[0m\u001b[0;34m)\u001b[0m\u001b[0;34m\u001b[0m\u001b[0m\n\u001b[0m\u001b[1;32m      2\u001b[0m \u001b[0mlist\u001b[0m\u001b[0;34m(\u001b[0m\u001b[0mNDBCdata\u001b[0m\u001b[0;34m.\u001b[0m\u001b[0mvariables\u001b[0m\u001b[0;34m.\u001b[0m\u001b[0mkeys\u001b[0m\u001b[0;34m(\u001b[0m\u001b[0;34m)\u001b[0m\u001b[0;34m)\u001b[0m\u001b[0;34m\u001b[0m\u001b[0m\n",
      "\u001b[0;32mC:\\Users\\jennifer.bosch\\AppData\\Local\\Continuum\\Miniconda2\\envs\\IOOS\\lib\\site-packages\\siphon\\ncss.pyc\u001b[0m in \u001b[0;36mget_data\u001b[0;34m(self, query)\u001b[0m\n\u001b[1;32m    109\u001b[0m         '''\n\u001b[1;32m    110\u001b[0m \u001b[0;34m\u001b[0m\u001b[0m\n\u001b[0;32m--> 111\u001b[0;31m         \u001b[0mresp\u001b[0m \u001b[0;34m=\u001b[0m \u001b[0mself\u001b[0m\u001b[0;34m.\u001b[0m\u001b[0mget_query\u001b[0m\u001b[0;34m(\u001b[0m\u001b[0mquery\u001b[0m\u001b[0;34m)\u001b[0m\u001b[0;34m\u001b[0m\u001b[0m\n\u001b[0m\u001b[1;32m    112\u001b[0m         \u001b[0;32mreturn\u001b[0m \u001b[0mresponse_handlers\u001b[0m\u001b[0;34m(\u001b[0m\u001b[0mresp\u001b[0m\u001b[0;34m,\u001b[0m \u001b[0mself\u001b[0m\u001b[0;34m.\u001b[0m\u001b[0munit_handler\u001b[0m\u001b[0;34m)\u001b[0m\u001b[0;34m\u001b[0m\u001b[0m\n\u001b[1;32m    113\u001b[0m \u001b[0;34m\u001b[0m\u001b[0m\n",
      "\u001b[0;32mC:\\Users\\jennifer.bosch\\AppData\\Local\\Continuum\\Miniconda2\\envs\\IOOS\\lib\\site-packages\\siphon\\http_util.pyc\u001b[0m in \u001b[0;36mget_query\u001b[0;34m(self, query)\u001b[0m\n\u001b[1;32m    373\u001b[0m         '''\n\u001b[1;32m    374\u001b[0m         \u001b[0murl\u001b[0m \u001b[0;34m=\u001b[0m \u001b[0mself\u001b[0m\u001b[0;34m.\u001b[0m\u001b[0m_base\u001b[0m\u001b[0;34m[\u001b[0m\u001b[0;34m:\u001b[0m\u001b[0;34m-\u001b[0m\u001b[0;36m1\u001b[0m\u001b[0;34m]\u001b[0m \u001b[0;32mif\u001b[0m \u001b[0mself\u001b[0m\u001b[0;34m.\u001b[0m\u001b[0m_base\u001b[0m\u001b[0;34m[\u001b[0m\u001b[0;34m-\u001b[0m\u001b[0;36m1\u001b[0m\u001b[0;34m]\u001b[0m \u001b[0;34m==\u001b[0m \u001b[0;34m'/'\u001b[0m \u001b[0;32melse\u001b[0m \u001b[0mself\u001b[0m\u001b[0;34m.\u001b[0m\u001b[0m_base\u001b[0m\u001b[0;34m\u001b[0m\u001b[0m\n\u001b[0;32m--> 375\u001b[0;31m         \u001b[0;32mreturn\u001b[0m \u001b[0mself\u001b[0m\u001b[0;34m.\u001b[0m\u001b[0mget\u001b[0m\u001b[0;34m(\u001b[0m\u001b[0murl\u001b[0m\u001b[0;34m,\u001b[0m \u001b[0mquery\u001b[0m\u001b[0;34m)\u001b[0m\u001b[0;34m\u001b[0m\u001b[0m\n\u001b[0m\u001b[1;32m    376\u001b[0m \u001b[0;34m\u001b[0m\u001b[0m\n\u001b[1;32m    377\u001b[0m     \u001b[0;32mdef\u001b[0m \u001b[0murl_path\u001b[0m\u001b[0;34m(\u001b[0m\u001b[0mself\u001b[0m\u001b[0;34m,\u001b[0m \u001b[0mpath\u001b[0m\u001b[0;34m)\u001b[0m\u001b[0;34m:\u001b[0m\u001b[0;34m\u001b[0m\u001b[0m\n",
      "\u001b[0;32mC:\\Users\\jennifer.bosch\\AppData\\Local\\Continuum\\Miniconda2\\envs\\IOOS\\lib\\site-packages\\siphon\\http_util.pyc\u001b[0m in \u001b[0;36mget\u001b[0;34m(self, path, params)\u001b[0m\n\u001b[1;32m    457\u001b[0m             raise requests.HTTPError('Error accessing %s: %d %s' % (resp.request.url,\n\u001b[1;32m    458\u001b[0m                                                                     \u001b[0mresp\u001b[0m\u001b[0;34m.\u001b[0m\u001b[0mstatus_code\u001b[0m\u001b[0;34m,\u001b[0m\u001b[0;34m\u001b[0m\u001b[0m\n\u001b[0;32m--> 459\u001b[0;31m                                                                     text))\n\u001b[0m\u001b[1;32m    460\u001b[0m         \u001b[0;32mreturn\u001b[0m \u001b[0mresp\u001b[0m\u001b[0;34m\u001b[0m\u001b[0m\n\u001b[1;32m    461\u001b[0m \u001b[0;34m\u001b[0m\u001b[0m\n",
      "\u001b[0;31mHTTPError\u001b[0m: Error accessing http://sdf.ndbc.noaa.gov/thredds/ncss/grid/hfradar_usegc_1km?var=u&var=v&time_start=2016-07-17T00%3A00%3A00&time_end=2016-07-18T00%3A00%3A00&west=-80&east=-69&north=42&south=35: 400 NetCDF Subset Service exception handled : Requested time range does not intersect the Data Time Range = 2016-07-19T14:00:00Z to 2016-07-24T19:00:00Z"
     ]
    }
   ],
   "source": [
    "NDBCdata = NDBC_ncss.get_data(NDBC_query)\n",
    "list(NDBCdata.variables.keys())"
   ]
  },
  {
   "cell_type": "code",
   "execution_count": 27,
   "metadata": {
    "collapsed": false
   },
   "outputs": [
    {
     "data": {
      "text/plain": [
       "[u'u', u'time_run', u'time', u'lat', u'lon', u'v']"
      ]
     },
     "execution_count": 27,
     "metadata": {},
     "output_type": "execute_result"
    }
   ],
   "source": [
    "SIOdata = SIO_ncss.get_data(SIO_query)\n",
    "list(SIOdata.variables.keys())\n"
   ]
  },
  {
   "cell_type": "code",
   "execution_count": 28,
   "metadata": {
    "collapsed": false
   },
   "outputs": [
    {
     "name": "stdout",
     "output_type": "stream",
     "text": [
      "<type 'netCDF4._netCDF4.Variable'>\n",
      "float64 time_run(time)\n",
      "    long_name: run times for coordinate = time\n",
      "    standard_name: forecast_reference_time\n",
      "    units: hours since 2012-01-01T00:00:00Z\n",
      "    missing_value: nan\n",
      "    _CoordinateAxisType: RunTime\n",
      "unlimited dimensions: \n",
      "current shape = (25,)\n",
      "filling off\n",
      "\n"
     ]
    }
   ],
   "source": [
    "print(SIOdata.variables['time_run'])  #note NDBC doesn't have this variable\n"
   ]
  },
  {
   "cell_type": "code",
   "execution_count": null,
   "metadata": {
    "collapsed": true
   },
   "outputs": [],
   "source": []
  },
  {
   "cell_type": "code",
   "execution_count": null,
   "metadata": {
    "collapsed": true
   },
   "outputs": [],
   "source": []
  },
  {
   "cell_type": "code",
   "execution_count": null,
   "metadata": {
    "collapsed": true
   },
   "outputs": [],
   "source": []
  }
 ],
 "metadata": {
  "kernelspec": {
   "display_name": "Python 2",
   "language": "python",
   "name": "python2"
  },
  "language_info": {
   "codemirror_mode": {
    "name": "ipython",
    "version": 2
   },
   "file_extension": ".py",
   "mimetype": "text/x-python",
   "name": "python",
   "nbconvert_exporter": "python",
   "pygments_lexer": "ipython2",
   "version": "2.7.12"
  }
 },
 "nbformat": 4,
 "nbformat_minor": 0
}
