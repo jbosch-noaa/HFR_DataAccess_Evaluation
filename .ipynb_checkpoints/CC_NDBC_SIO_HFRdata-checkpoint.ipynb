{
 "cells": [
  {
   "cell_type": "markdown",
   "metadata": {},
   "source": [
    "## HF Radar Compliance Checker Script\n",
    "\n",
    "### Purpose: \n",
    "Run the compliance checker on NDBC and SIO HF radar data to compare the metadata compliance.\n",
    "\n",
    "### Dependencies: \n",
    "This script must be run in the \"IOOS\" environment for the compliance checker to work properly.\n",
    "\n",
    "Written by: JAB\n",
    "\n"
   ]
  },
  {
   "cell_type": "code",
   "execution_count": 1,
   "metadata": {
    "collapsed": true
   },
   "outputs": [],
   "source": [
    "# First import the compliance checker and test that it is installed properly\n",
    "from compliance_checker.runner import ComplianceChecker, CheckSuite\n",
    "\n",
    "# Load all available checker classes\n",
    "check_suite = CheckSuite()\n",
    "check_suite.load_all_available_checkers()"
   ]
  },
  {
   "cell_type": "code",
   "execution_count": 2,
   "metadata": {
    "collapsed": true
   },
   "outputs": [],
   "source": [
    "#Paths to the east coast and Gulf of Mexico 1km resolution HF Radar data \n",
    "NDBC_HFR_path = 'http://sdf.ndbc.noaa.gov/thredds/dodsC/hfradar_usegc_1km'\n",
    "SIO_HFR_path = 'http://hfrnet.ucsd.edu/thredds/dodsC/HFRNet/USEGC/1km/hourly/RTV'\n"
   ]
  },
  {
   "cell_type": "markdown",
   "metadata": {},
   "source": [
    "### Running Compliance Checker on NDBC THREDDS data\n",
    "This code is written with all the arguments spelled out, following the usage instructions on the README section of compliance checker github page: https://github.com/ioos/compliance-checker"
   ]
  },
  {
   "cell_type": "code",
   "execution_count": 4,
   "metadata": {
    "collapsed": false
   },
   "outputs": [
    {
     "name": "stderr",
     "output_type": "stream",
     "text": [
      "WARNING: The following exceptions occured during the cf checker (possibly indicate compliance checker issues):\n",
      "cf.check_packed_data: 'module' object has no attribute 'float128'\n",
      "  File \"C:\\Users\\jennifer.bosch\\AppData\\Local\\Continuum\\Miniconda2\\envs\\ioos\\lib\\site-packages\\compliance_checker\\cf\\cf.py\", line 2398, in check_packed_data\n",
      "    if not type(scale_factor) in [np.float, np.float16, np.float32, np.float64, np.float128]:\n",
      "\n"
     ]
    }
   ],
   "source": [
    "# Run cf and adcc checks with normal strictness, verbose text format to stdout\n",
    "##return_value, errors = ComplianceChecker.run_checker(NDBC_HFR_path,\n",
    "##                           ['cf', 'acdd'], True, 'normal', '-', 'text')\n",
    "output_file = ('NDBC_testCC.txt')\n",
    "return_value, errors =ComplianceChecker.run_checker(ds_loc=NDBC_HFR_path,\n",
    "                            checker_names=['cf', 'acdd'], verbose='True',criteria='normal',\n",
    "                            output_format='text',output_filename=output_file)\n",
    "                                                  "
   ]
  },
  {
   "cell_type": "markdown",
   "metadata": {},
   "source": [
    "### Running Compliance Checker on Scripps THREDDS data\n",
    "This code is written without the arguments spelled out."
   ]
  },
  {
   "cell_type": "code",
   "execution_count": 5,
   "metadata": {
    "collapsed": false
   },
   "outputs": [],
   "source": [
    "# Run cf and adcc checks with normal strictness, verbose text format to stdout\n",
    "SIO_output_file = ('SIO_testCC.txt')\n",
    "return_value, errors = ComplianceChecker.run_checker(SIO_HFR_path,\n",
    "                           ['cf', 'acdd'], True, 'normal', '-', SIO_output_file)"
   ]
  },
  {
   "cell_type": "code",
   "execution_count": null,
   "metadata": {
    "collapsed": true
   },
   "outputs": [],
   "source": []
  }
 ],
 "metadata": {
  "kernelspec": {
   "display_name": "Python 2",
   "language": "python",
   "name": "python2"
  },
  "language_info": {
   "codemirror_mode": {
    "name": "ipython",
    "version": 2
   },
   "file_extension": ".py",
   "mimetype": "text/x-python",
   "name": "python",
   "nbconvert_exporter": "python",
   "pygments_lexer": "ipython2",
   "version": "2.7.12"
  }
 },
 "nbformat": 4,
 "nbformat_minor": 0
}
